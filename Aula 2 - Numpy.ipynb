{
 "cells": [
  {
   "cell_type": "code",
   "execution_count": 132,
   "id": "a50e52af",
   "metadata": {},
   "outputs": [],
   "source": [
    "import numpy as np"
   ]
  },
  {
   "cell_type": "code",
   "execution_count": 133,
   "id": "697231d0",
   "metadata": {},
   "outputs": [
    {
     "data": {
      "text/plain": [
       "array([[1, 2, 3],\n",
       "       [4, 5, 6]])"
      ]
     },
     "execution_count": 133,
     "metadata": {},
     "output_type": "execute_result"
    }
   ],
   "source": [
    "stats = np.array([[1, 2, 3], [4, 5, 6]])\n",
    "stats"
   ]
  },
  {
   "cell_type": "markdown",
   "id": "a3c7df5e",
   "metadata": {},
   "source": [
    "**Exercício:** encontre a média e o desvio padrão da matriz, sabendo que os métodos são representados por `np.mean()` e `np.std()`, respectivamente."
   ]
  },
  {
   "cell_type": "code",
   "execution_count": 134,
   "id": "a56b435a",
   "metadata": {},
   "outputs": [
    {
     "data": {
      "text/plain": [
       "3.5"
      ]
     },
     "execution_count": 134,
     "metadata": {},
     "output_type": "execute_result"
    }
   ],
   "source": [
    "# Média\n",
    "stats.mean()"
   ]
  },
  {
   "cell_type": "code",
   "execution_count": 135,
   "id": "1ddcc90d",
   "metadata": {},
   "outputs": [
    {
     "data": {
      "text/plain": [
       "1.707825127659933"
      ]
     },
     "execution_count": 135,
     "metadata": {},
     "output_type": "execute_result"
    }
   ],
   "source": [
    "# Desvio Padrão\n",
    "stats.std()"
   ]
  },
  {
   "cell_type": "markdown",
   "id": "edbc62f3",
   "metadata": {},
   "source": [
    "_________________\n",
    "**Exercício:** Realize a soma para cada linha e para cada coluna:"
   ]
  },
  {
   "cell_type": "code",
   "execution_count": 136,
   "id": "3de9baab",
   "metadata": {},
   "outputs": [
    {
     "data": {
      "text/plain": [
       "array([ 6, 15])"
      ]
     },
     "execution_count": 136,
     "metadata": {},
     "output_type": "execute_result"
    }
   ],
   "source": [
    "# Por linha\n",
    "stats.sum(1)"
   ]
  },
  {
   "cell_type": "code",
   "execution_count": 137,
   "id": "637c708a",
   "metadata": {
    "scrolled": true
   },
   "outputs": [
    {
     "data": {
      "text/plain": [
       "array([5, 7, 9])"
      ]
     },
     "execution_count": 137,
     "metadata": {},
     "output_type": "execute_result"
    }
   ],
   "source": [
    "# Por coluna\n",
    "stats.sum(0)"
   ]
  },
  {
   "cell_type": "markdown",
   "id": "37887fe9",
   "metadata": {},
   "source": [
    "### Operador OR\n",
    "Similar ao `or`, só que devemos utilizar `|`. <br><br>\n",
    "**Exercício:** Seleciona os valores que são iguais a 1 ou maiores do que 20"
   ]
  },
  {
   "cell_type": "code",
   "execution_count": 138,
   "id": "9d50a769",
   "metadata": {},
   "outputs": [
    {
     "data": {
      "text/plain": [
       "array([[ 1, 10],\n",
       "       [20, 30]])"
      ]
     },
     "execution_count": 138,
     "metadata": {},
     "output_type": "execute_result"
    }
   ],
   "source": [
    "mat = np.array([1, 10, 20, 30]).reshape(2, 2)\n",
    "mat"
   ]
  },
  {
   "cell_type": "code",
   "execution_count": 139,
   "id": "3844117d",
   "metadata": {},
   "outputs": [
    {
     "data": {
      "text/plain": [
       "array([ 1, 30])"
      ]
     },
     "execution_count": 139,
     "metadata": {},
     "output_type": "execute_result"
    }
   ],
   "source": [
    "mat[(mat == 1) | (mat > 20)]"
   ]
  },
  {
   "cell_type": "markdown",
   "id": "904cd864",
   "metadata": {},
   "source": [
    "## Exercícios"
   ]
  },
  {
   "cell_type": "markdown",
   "id": "474fa561",
   "metadata": {},
   "source": [
    "1 - Selecione todos os valores ímpares do seguinte array:  <br>\n",
    "array = [1, 2, 3, 4, 5, 6, 7, 8, 9] <br>\n"
   ]
  },
  {
   "cell_type": "code",
   "execution_count": 140,
   "id": "ad41846f",
   "metadata": {},
   "outputs": [
    {
     "data": {
      "text/plain": [
       "array([1, 3, 5, 7, 9])"
      ]
     },
     "execution_count": 140,
     "metadata": {},
     "output_type": "execute_result"
    }
   ],
   "source": [
    "array = np.array([1,2,3,4,5,6,7,8,9])\n",
    "array[array % 2 != 0]"
   ]
  },
  {
   "cell_type": "markdown",
   "id": "9e56a6bf",
   "metadata": {},
   "source": [
    "2 - Substitua os valores ímpares do seguinte array por 0:  <br>\n",
    "array = [1, 2, 3, 4, 5, 6, 7, 8, 9] <br>"
   ]
  },
  {
   "cell_type": "code",
   "execution_count": 141,
   "id": "d71d462b",
   "metadata": {},
   "outputs": [
    {
     "data": {
      "text/plain": [
       "array([0, 2, 0, 4, 0, 6, 0, 8, 0])"
      ]
     },
     "execution_count": 141,
     "metadata": {},
     "output_type": "execute_result"
    }
   ],
   "source": [
    "array[array % 2 != 0] = 0\n",
    "array"
   ]
  },
  {
   "cell_type": "markdown",
   "id": "53e1eae9",
   "metadata": {},
   "source": [
    "3 - Considere o dataset da iris disponível em: \n",
    "url = 'https://archive.ics.uci.edu/ml/machine-learning-databases/iris/iris.data'<br> \n",
    "Nesse dataset temos as seguintes informações:<br> \n",
    "   * Coluna 1. sepal length em cm<br> \n",
    "   * Coluna 2. sepal width em cm<br> \n",
    "   * Coluna 3. petal length em cm<br> \n",
    "   * Coluna 4. petal width em cm<br> \n",
    "   * Coluna 5. classe: \n",
    "                -- Iris Setosa \n",
    "                -- Iris Versicolour \n",
    "                -- Iris Virginica \n",
    "                \n",
    "Utilizando o método `np.genfromtxt()`, importe as 4 primeiras colunas do dataset do íris e print as 10 primeiras linhas <br>"
   ]
  },
  {
   "cell_type": "code",
   "execution_count": 142,
   "id": "951fbb52",
   "metadata": {},
   "outputs": [
    {
     "data": {
      "text/plain": [
       "array([[5.1, 3.5, 1.4, 0.2],\n",
       "       [4.9, 3. , 1.4, 0.2],\n",
       "       [4.7, 3.2, 1.3, 0.2],\n",
       "       [4.6, 3.1, 1.5, 0.2],\n",
       "       [5. , 3.6, 1.4, 0.2],\n",
       "       [5.4, 3.9, 1.7, 0.4],\n",
       "       [4.6, 3.4, 1.4, 0.3],\n",
       "       [5. , 3.4, 1.5, 0.2],\n",
       "       [4.4, 2.9, 1.4, 0.2],\n",
       "       [4.9, 3.1, 1.5, 0.1]])"
      ]
     },
     "execution_count": 142,
     "metadata": {},
     "output_type": "execute_result"
    }
   ],
   "source": [
    "df_iris = np.genfromtxt('https://archive.ics.uci.edu/ml/machine-learning-databases/iris/iris.data',\n",
    "                        delimiter=\",\",\n",
    "                        usecols=[0,1,2,3]) # Seleciona algumas colunas, que são 4\n",
    "df_iris[:10]"
   ]
  },
  {
   "cell_type": "markdown",
   "id": "5b3b9a36",
   "metadata": {},
   "source": [
    "4 - Calcule a média, mediana e desvio padrão da coluna sepallenght"
   ]
  },
  {
   "cell_type": "code",
   "execution_count": 143,
   "id": "2b57655a",
   "metadata": {},
   "outputs": [
    {
     "name": "stdout",
     "output_type": "stream",
     "text": [
      "A média da sepal length é 5.8\n",
      "A mediana da sepal length é 5.843333333333334\n",
      "O desvio padrão da sepal length é 0.8253012917851409\n"
     ]
    }
   ],
   "source": [
    "# Coluna 0 é a Sepal Length\n",
    "media = np.median(df_iris[:,0])\n",
    "print(f\"A média da sepal length é {media}\")\n",
    "\n",
    "mediana = np.mean(df_iris[:,0])\n",
    "print(f\"A mediana da sepal length é {mediana}\")\n",
    "\n",
    "desvio = np.std(df_iris[:,0])\n",
    "print(f\"O desvio padrão da sepal length é {desvio}\")"
   ]
  },
  {
   "cell_type": "markdown",
   "id": "2ff8c60f",
   "metadata": {},
   "source": [
    "5 - Filtre a matriz para conter apenas dados nos quais petallength (3ª coluna) > 1.5 e sepallength (1ª coluna) < 5.0"
   ]
  },
  {
   "cell_type": "code",
   "execution_count": 144,
   "id": "23f40c1c",
   "metadata": {},
   "outputs": [
    {
     "data": {
      "text/plain": [
       "array([[4.8, 3.4, 1.6, 0.2],\n",
       "       [4.8, 3.4, 1.9, 0.2],\n",
       "       [4.7, 3.2, 1.6, 0.2],\n",
       "       [4.8, 3.1, 1.6, 0.2],\n",
       "       [4.9, 2.4, 3.3, 1. ],\n",
       "       [4.9, 2.5, 4.5, 1.7]])"
      ]
     },
     "execution_count": 144,
     "metadata": {},
     "output_type": "execute_result"
    }
   ],
   "source": [
    "df_iris[(df_iris[:,2] > 1.5) & (df_iris[:,0] < 5)]"
   ]
  },
  {
   "cell_type": "markdown",
   "id": "6b7d0bf3",
   "metadata": {},
   "source": [
    "6 - Esse dataset possui nans?"
   ]
  },
  {
   "cell_type": "code",
   "execution_count": 145,
   "id": "068e00eb",
   "metadata": {},
   "outputs": [
    {
     "data": {
      "text/plain": [
       "False"
      ]
     },
     "execution_count": 145,
     "metadata": {},
     "output_type": "execute_result"
    }
   ],
   "source": [
    "np.isnan(df_iris).any() # Todos os valores estão preenchidos"
   ]
  },
  {
   "cell_type": "markdown",
   "id": "54fc0d57",
   "metadata": {},
   "source": [
    "7 - Crie uma coluna de volume sabendo que ele pode ser calculado por (pi x petallength x sepal_length^2)/3"
   ]
  },
  {
   "cell_type": "code",
   "execution_count": 146,
   "id": "ccfc33ce",
   "metadata": {},
   "outputs": [
    {
     "data": {
      "text/plain": [
       "array([[ 5.1       ,  3.5       ,  1.4       ,  0.2       , 38.13265163],\n",
       "       [ 4.9       ,  3.        ,  1.4       ,  0.2       , 35.20049849],\n",
       "       [ 4.7       ,  3.2       ,  1.3       ,  0.2       , 30.07237208],\n",
       "       [ 4.6       ,  3.1       ,  1.5       ,  0.2       , 33.23805027],\n",
       "       [ 5.        ,  3.6       ,  1.4       ,  0.2       , 36.65191429],\n",
       "       [ 5.4       ,  3.9       ,  1.7       ,  0.4       , 51.91167701],\n",
       "       [ 4.6       ,  3.4       ,  1.4       ,  0.3       , 31.02218026],\n",
       "       [ 5.        ,  3.4       ,  1.5       ,  0.2       , 39.26990817],\n",
       "       [ 4.4       ,  2.9       ,  1.4       ,  0.2       , 28.38324243],\n",
       "       [ 4.9       ,  3.1       ,  1.5       ,  0.1       , 37.71481981]])"
      ]
     },
     "execution_count": 146,
     "metadata": {},
     "output_type": "execute_result"
    }
   ],
   "source": [
    "import math\n",
    "\n",
    "volume = math.pi * df_iris[:,2] * (df_iris[:,0] ** 2) / 3\n",
    "volume = volume.reshape(-1,1)\n",
    "\n",
    "df_iris = np.hstack([df_iris, volume])\n",
    "df_iris[:10,:]"
   ]
  }
 ],
 "metadata": {
  "kernelspec": {
   "display_name": "Python 3 (ipykernel)",
   "language": "python",
   "name": "python3"
  },
  "language_info": {
   "codemirror_mode": {
    "name": "ipython",
    "version": 3
   },
   "file_extension": ".py",
   "mimetype": "text/x-python",
   "name": "python",
   "nbconvert_exporter": "python",
   "pygments_lexer": "ipython3",
   "version": "3.9.7"
  }
 },
 "nbformat": 4,
 "nbformat_minor": 5
}
