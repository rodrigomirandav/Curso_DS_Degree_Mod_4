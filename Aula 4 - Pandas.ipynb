{
 "cells": [
  {
   "cell_type": "markdown",
   "id": "7eb9e9f8",
   "metadata": {},
   "source": [
    "## Exercícios"
   ]
  },
  {
   "cell_type": "markdown",
   "id": "4b1af6da",
   "metadata": {},
   "source": [
    "1. Considere a existência de três tabelas distintas:\n",
    "* customer.csv : Possui a informação dos clientes em duas colunas: customer id  customer name\n",
    "* products.csv : Conté informação dos produtos vendidos pela empresa em três colunas - p_id (product id), product (name) e price\n",
    "* sales.csv : Contém informações das vendas realizadas em seis colunas - sale_id, c_id (customer id), p_id (product_id), qty (quantity sold), store (name)\n",
    "\n",
    "Conhecendo as bases e utilizando os métodos de concatenação de bases responda:\n"
   ]
  },
  {
   "cell_type": "code",
   "execution_count": 2,
   "id": "527a6b5a",
   "metadata": {},
   "outputs": [],
   "source": [
    "import pandas as pd"
   ]
  },
  {
   "cell_type": "code",
   "execution_count": 3,
   "id": "85d48fcc",
   "metadata": {},
   "outputs": [],
   "source": [
    "customer = pd.read_csv('./data/customer.csv')\n",
    "products = pd.read_csv('./data/products.csv')\n",
    "sales = pd.read_csv('./data/sales.csv')"
   ]
  },
  {
   "cell_type": "markdown",
   "id": "c332a8c1",
   "metadata": {},
   "source": [
    "a) Quais produtos não foram vendidos?"
   ]
  },
  {
   "cell_type": "code",
   "execution_count": 10,
   "id": "1127edad",
   "metadata": {},
   "outputs": [
    {
     "data": {
      "text/html": [
       "<div>\n",
       "<style scoped>\n",
       "    .dataframe tbody tr th:only-of-type {\n",
       "        vertical-align: middle;\n",
       "    }\n",
       "\n",
       "    .dataframe tbody tr th {\n",
       "        vertical-align: top;\n",
       "    }\n",
       "\n",
       "    .dataframe thead th {\n",
       "        text-align: right;\n",
       "    }\n",
       "</style>\n",
       "<table border=\"1\" class=\"dataframe\">\n",
       "  <thead>\n",
       "    <tr style=\"text-align: right;\">\n",
       "      <th></th>\n",
       "      <th>product_y</th>\n",
       "    </tr>\n",
       "  </thead>\n",
       "  <tbody>\n",
       "    <tr>\n",
       "      <th>0</th>\n",
       "      <td>Hard Disk</td>\n",
       "    </tr>\n",
       "    <tr>\n",
       "      <th>10</th>\n",
       "      <td>Keyboard</td>\n",
       "    </tr>\n",
       "    <tr>\n",
       "      <th>11</th>\n",
       "      <td>Mouse</td>\n",
       "    </tr>\n",
       "    <tr>\n",
       "      <th>12</th>\n",
       "      <td>Motherboard</td>\n",
       "    </tr>\n",
       "    <tr>\n",
       "      <th>13</th>\n",
       "      <td>Power supply</td>\n",
       "    </tr>\n",
       "  </tbody>\n",
       "</table>\n",
       "</div>"
      ],
      "text/plain": [
       "       product_y\n",
       "0      Hard Disk\n",
       "10      Keyboard\n",
       "11         Mouse\n",
       "12   Motherboard\n",
       "13  Power supply"
      ]
     },
     "execution_count": 10,
     "metadata": {},
     "output_type": "execute_result"
    }
   ],
   "source": [
    "vendas = sales.merge(products, how='right', on='p_id')\n",
    "vendas[['product_y']][vendas['product_x'].isna()]"
   ]
  },
  {
   "cell_type": "markdown",
   "id": "c6fe05d3",
   "metadata": {},
   "source": [
    "b) Quantos clientes não realizaram uma compra? "
   ]
  },
  {
   "cell_type": "code",
   "execution_count": 15,
   "id": "ead68ca6",
   "metadata": {},
   "outputs": [
    {
     "data": {
      "text/html": [
       "<div>\n",
       "<style scoped>\n",
       "    .dataframe tbody tr th:only-of-type {\n",
       "        vertical-align: middle;\n",
       "    }\n",
       "\n",
       "    .dataframe tbody tr th {\n",
       "        vertical-align: top;\n",
       "    }\n",
       "\n",
       "    .dataframe thead th {\n",
       "        text-align: right;\n",
       "    }\n",
       "</style>\n",
       "<table border=\"1\" class=\"dataframe\">\n",
       "  <thead>\n",
       "    <tr style=\"text-align: right;\">\n",
       "      <th></th>\n",
       "      <th>Customer</th>\n",
       "    </tr>\n",
       "  </thead>\n",
       "  <tbody>\n",
       "    <tr>\n",
       "      <th>9</th>\n",
       "      <td>King</td>\n",
       "    </tr>\n",
       "    <tr>\n",
       "      <th>10</th>\n",
       "      <td>Ronn</td>\n",
       "    </tr>\n",
       "    <tr>\n",
       "      <th>11</th>\n",
       "      <td>Jem</td>\n",
       "    </tr>\n",
       "    <tr>\n",
       "      <th>12</th>\n",
       "      <td>Tom</td>\n",
       "    </tr>\n",
       "  </tbody>\n",
       "</table>\n",
       "</div>"
      ],
      "text/plain": [
       "   Customer\n",
       "9      King\n",
       "10     Ronn\n",
       "11      Jem\n",
       "12      Tom"
      ]
     },
     "execution_count": 15,
     "metadata": {},
     "output_type": "execute_result"
    }
   ],
   "source": [
    "vendas_b = sales.merge(customer, how='right', on='c_id')\n",
    "vendas_b[['Customer']][vendas_b['sale_id'].isna()]\n",
    "\n",
    "# 4 clientes"
   ]
  },
  {
   "cell_type": "markdown",
   "id": "82400ef3",
   "metadata": {},
   "source": [
    "c) Liste a quantidade vendida e o faturamento de cada produto "
   ]
  },
  {
   "cell_type": "code",
   "execution_count": 26,
   "id": "b43e8496",
   "metadata": {},
   "outputs": [],
   "source": [
    "vendas['valor_venda'] = vendas['qty'] * vendas['price']"
   ]
  },
  {
   "cell_type": "code",
   "execution_count": 27,
   "id": "d3db11c0",
   "metadata": {},
   "outputs": [
    {
     "data": {
      "text/html": [
       "<div>\n",
       "<style scoped>\n",
       "    .dataframe tbody tr th:only-of-type {\n",
       "        vertical-align: middle;\n",
       "    }\n",
       "\n",
       "    .dataframe tbody tr th {\n",
       "        vertical-align: top;\n",
       "    }\n",
       "\n",
       "    .dataframe thead th {\n",
       "        text-align: right;\n",
       "    }\n",
       "</style>\n",
       "<table border=\"1\" class=\"dataframe\">\n",
       "  <thead>\n",
       "    <tr style=\"text-align: right;\">\n",
       "      <th></th>\n",
       "      <th>qty</th>\n",
       "      <th>valor_venda</th>\n",
       "    </tr>\n",
       "    <tr>\n",
       "      <th>product_y</th>\n",
       "      <th></th>\n",
       "      <th></th>\n",
       "    </tr>\n",
       "  </thead>\n",
       "  <tbody>\n",
       "    <tr>\n",
       "      <th>CPU</th>\n",
       "      <td>1.0</td>\n",
       "      <td>55.0</td>\n",
       "    </tr>\n",
       "    <tr>\n",
       "      <th>Hard Disk</th>\n",
       "      <td>0.0</td>\n",
       "      <td>0.0</td>\n",
       "    </tr>\n",
       "    <tr>\n",
       "      <th>Keyboard</th>\n",
       "      <td>0.0</td>\n",
       "      <td>0.0</td>\n",
       "    </tr>\n",
       "    <tr>\n",
       "      <th>Monitor</th>\n",
       "      <td>12.0</td>\n",
       "      <td>900.0</td>\n",
       "    </tr>\n",
       "    <tr>\n",
       "      <th>Motherboard</th>\n",
       "      <td>0.0</td>\n",
       "      <td>0.0</td>\n",
       "    </tr>\n",
       "    <tr>\n",
       "      <th>Mouse</th>\n",
       "      <td>0.0</td>\n",
       "      <td>0.0</td>\n",
       "    </tr>\n",
       "    <tr>\n",
       "      <th>Power supply</th>\n",
       "      <td>0.0</td>\n",
       "      <td>0.0</td>\n",
       "    </tr>\n",
       "    <tr>\n",
       "      <th>RAM</th>\n",
       "      <td>7.0</td>\n",
       "      <td>630.0</td>\n",
       "    </tr>\n",
       "  </tbody>\n",
       "</table>\n",
       "</div>"
      ],
      "text/plain": [
       "               qty  valor_venda\n",
       "product_y                      \n",
       "CPU            1.0         55.0\n",
       "Hard Disk      0.0          0.0\n",
       "Keyboard       0.0          0.0\n",
       "Monitor       12.0        900.0\n",
       "Motherboard    0.0          0.0\n",
       "Mouse          0.0          0.0\n",
       "Power supply   0.0          0.0\n",
       "RAM            7.0        630.0"
      ]
     },
     "execution_count": 27,
     "metadata": {},
     "output_type": "execute_result"
    }
   ],
   "source": [
    "vendas_c = vendas.copy()\n",
    "vendas_c.groupby('product_y').sum().loc[:,['qty','valor_venda']]"
   ]
  },
  {
   "cell_type": "markdown",
   "id": "6b5b3105",
   "metadata": {},
   "source": [
    "d) Liste a quantidade vendida de cada produto por loja"
   ]
  },
  {
   "cell_type": "code",
   "execution_count": 28,
   "id": "eb01d564",
   "metadata": {},
   "outputs": [
    {
     "data": {
      "text/html": [
       "<div>\n",
       "<style scoped>\n",
       "    .dataframe tbody tr th:only-of-type {\n",
       "        vertical-align: middle;\n",
       "    }\n",
       "\n",
       "    .dataframe tbody tr th {\n",
       "        vertical-align: top;\n",
       "    }\n",
       "\n",
       "    .dataframe thead th {\n",
       "        text-align: right;\n",
       "    }\n",
       "</style>\n",
       "<table border=\"1\" class=\"dataframe\">\n",
       "  <thead>\n",
       "    <tr style=\"text-align: right;\">\n",
       "      <th></th>\n",
       "      <th></th>\n",
       "      <th>qty</th>\n",
       "      <th>valor_venda</th>\n",
       "    </tr>\n",
       "    <tr>\n",
       "      <th>store</th>\n",
       "      <th>product_y</th>\n",
       "      <th></th>\n",
       "      <th></th>\n",
       "    </tr>\n",
       "  </thead>\n",
       "  <tbody>\n",
       "    <tr>\n",
       "      <th rowspan=\"2\" valign=\"top\">ABC</th>\n",
       "      <th>Monitor</th>\n",
       "      <td>10.0</td>\n",
       "      <td>750.0</td>\n",
       "    </tr>\n",
       "    <tr>\n",
       "      <th>RAM</th>\n",
       "      <td>3.0</td>\n",
       "      <td>270.0</td>\n",
       "    </tr>\n",
       "    <tr>\n",
       "      <th rowspan=\"3\" valign=\"top\">DEF</th>\n",
       "      <th>CPU</th>\n",
       "      <td>1.0</td>\n",
       "      <td>55.0</td>\n",
       "    </tr>\n",
       "    <tr>\n",
       "      <th>Monitor</th>\n",
       "      <td>2.0</td>\n",
       "      <td>150.0</td>\n",
       "    </tr>\n",
       "    <tr>\n",
       "      <th>RAM</th>\n",
       "      <td>4.0</td>\n",
       "      <td>360.0</td>\n",
       "    </tr>\n",
       "  </tbody>\n",
       "</table>\n",
       "</div>"
      ],
      "text/plain": [
       "                  qty  valor_venda\n",
       "store product_y                   \n",
       "ABC   Monitor    10.0        750.0\n",
       "      RAM         3.0        270.0\n",
       "DEF   CPU         1.0         55.0\n",
       "      Monitor     2.0        150.0\n",
       "      RAM         4.0        360.0"
      ]
     },
     "execution_count": 28,
     "metadata": {},
     "output_type": "execute_result"
    }
   ],
   "source": [
    "vendas_d = vendas.copy()\n",
    "vendas_d.groupby(by=['store','product_y']).sum().loc[:,['qty','valor_venda']]"
   ]
  },
  {
   "cell_type": "markdown",
   "id": "9968651d",
   "metadata": {},
   "source": [
    "e) Qual loja teve maior faturamento?"
   ]
  },
  {
   "cell_type": "code",
   "execution_count": 36,
   "id": "c3a8c2bf",
   "metadata": {},
   "outputs": [
    {
     "data": {
      "text/html": [
       "<div>\n",
       "<style scoped>\n",
       "    .dataframe tbody tr th:only-of-type {\n",
       "        vertical-align: middle;\n",
       "    }\n",
       "\n",
       "    .dataframe tbody tr th {\n",
       "        vertical-align: top;\n",
       "    }\n",
       "\n",
       "    .dataframe thead th {\n",
       "        text-align: right;\n",
       "    }\n",
       "</style>\n",
       "<table border=\"1\" class=\"dataframe\">\n",
       "  <thead>\n",
       "    <tr style=\"text-align: right;\">\n",
       "      <th></th>\n",
       "      <th>valor_venda</th>\n",
       "    </tr>\n",
       "    <tr>\n",
       "      <th>store</th>\n",
       "      <th></th>\n",
       "    </tr>\n",
       "  </thead>\n",
       "  <tbody>\n",
       "    <tr>\n",
       "      <th>ABC</th>\n",
       "      <td>1020.0</td>\n",
       "    </tr>\n",
       "  </tbody>\n",
       "</table>\n",
       "</div>"
      ],
      "text/plain": [
       "       valor_venda\n",
       "store             \n",
       "ABC         1020.0"
      ]
     },
     "execution_count": 36,
     "metadata": {},
     "output_type": "execute_result"
    }
   ],
   "source": [
    "vendas_e = vendas.copy()\n",
    "vendas_e.groupby(by=['store']).sum().loc[:,['valor_venda']].sort_values('valor_venda', ascending=False).head(1)"
   ]
  },
  {
   "cell_type": "markdown",
   "id": "e1b464a3",
   "metadata": {},
   "source": [
    "f) Qual produto foi o mais vendido?"
   ]
  },
  {
   "cell_type": "code",
   "execution_count": 42,
   "id": "c44312b1",
   "metadata": {},
   "outputs": [
    {
     "data": {
      "text/html": [
       "<div>\n",
       "<style scoped>\n",
       "    .dataframe tbody tr th:only-of-type {\n",
       "        vertical-align: middle;\n",
       "    }\n",
       "\n",
       "    .dataframe tbody tr th {\n",
       "        vertical-align: top;\n",
       "    }\n",
       "\n",
       "    .dataframe thead th {\n",
       "        text-align: right;\n",
       "    }\n",
       "</style>\n",
       "<table border=\"1\" class=\"dataframe\">\n",
       "  <thead>\n",
       "    <tr style=\"text-align: right;\">\n",
       "      <th></th>\n",
       "      <th>qty</th>\n",
       "    </tr>\n",
       "    <tr>\n",
       "      <th>product_y</th>\n",
       "      <th></th>\n",
       "    </tr>\n",
       "  </thead>\n",
       "  <tbody>\n",
       "    <tr>\n",
       "      <th>Monitor</th>\n",
       "      <td>12.0</td>\n",
       "    </tr>\n",
       "  </tbody>\n",
       "</table>\n",
       "</div>"
      ],
      "text/plain": [
       "            qty\n",
       "product_y      \n",
       "Monitor    12.0"
      ]
     },
     "execution_count": 42,
     "metadata": {},
     "output_type": "execute_result"
    }
   ],
   "source": [
    "vendas_f = vendas.copy()\n",
    "vendas_f.groupby(by=['product_y']).sum().loc[:,['qty']].sort_values('qty', ascending=False).head(1)"
   ]
  }
 ],
 "metadata": {
  "kernelspec": {
   "display_name": "Python 3 (ipykernel)",
   "language": "python",
   "name": "python3"
  },
  "language_info": {
   "codemirror_mode": {
    "name": "ipython",
    "version": 3
   },
   "file_extension": ".py",
   "mimetype": "text/x-python",
   "name": "python",
   "nbconvert_exporter": "python",
   "pygments_lexer": "ipython3",
   "version": "3.9.7"
  }
 },
 "nbformat": 4,
 "nbformat_minor": 5
}
